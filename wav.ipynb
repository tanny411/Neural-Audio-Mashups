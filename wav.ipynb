{
 "cells": [
  {
   "cell_type": "code",
   "execution_count": 4,
   "metadata": {},
   "outputs": [
    {
     "name": "stderr",
     "output_type": "stream",
     "text": [
      "PySpark executors will use /usr/lib/anaconda-wmf/bin/python3.\n"
     ]
    }
   ],
   "source": [
    "# %load ../interactive/spark.py\n",
    "#%%\n",
    "%load_ext autoreload\n",
    "%autoreload 2\n",
    "\n",
    "repo='.'\n",
    "import sys\n",
    "sys.path.append(f\"{repo}/research-transform\")\n",
    "\n",
    "from IPython.core.display import display, HTML\n",
    "import numpy as np\n",
    "import pandas as pd\n",
    "import wmfdata\n",
    "\n",
    "try:\n",
    "    spark = wmfdata.spark.get_session(\n",
    "            app_name='interactive',\n",
    "            extra_settings={\n",
    "                'spark.jars.packages': 'org.apache.spark:spark-avro_2.11:2.4.4',\n",
    "                'spark.sql.shuffle.partitions': 512},\n",
    "            ship_python_env=False)\n",
    "except:        \n",
    "    import findspark\n",
    "    findspark.init('/usr/lib/spark2')\n",
    "\n",
    "from pyspark.sql.dataframe import DataFrame\n",
    "from pyspark.sql import Row, SparkSession, Window\n",
    "import pyspark.sql.functions as F\n",
    "import pyspark.sql.types as T\n"
   ]
  },
  {
   "cell_type": "code",
   "execution_count": 14,
   "metadata": {},
   "outputs": [
    {
     "name": "stdout",
     "output_type": "stream",
     "text": [
      "root\n",
      " |-- page_id: long (nullable = true)\n",
      " |-- page_namespace: integer (nullable = true)\n",
      " |-- page_title: string (nullable = true)\n",
      " |-- page_redirect_title: string (nullable = true)\n",
      " |-- page_restrictions: array (nullable = true)\n",
      " |    |-- element: string (containsNull = true)\n",
      " |-- user_id: long (nullable = true)\n",
      " |-- user_text: string (nullable = true)\n",
      " |-- revision_id: long (nullable = true)\n",
      " |-- revision_parent_id: long (nullable = true)\n",
      " |-- revision_timestamp: string (nullable = true)\n",
      " |-- revision_minor_edit: boolean (nullable = true)\n",
      " |-- revision_comment: string (nullable = true)\n",
      " |-- revision_text_bytes: long (nullable = true)\n",
      " |-- revision_text_sha1: string (nullable = true)\n",
      " |-- revision_text: string (nullable = true)\n",
      " |-- revision_content_model: string (nullable = true)\n",
      " |-- revision_content_format: string (nullable = true)\n",
      " |-- snapshot: string (nullable = true)\n",
      " |-- wiki_db: string (nullable = true)\n",
      " |-- file_name: string (nullable = true)\n",
      " |-- project: string (nullable = true)\n",
      " |-- file_bytes_b64: string (nullable = true)\n",
      "\n"
     ]
    }
   ],
   "source": [
    "# wav sound files smaller than 10mb from commons\n",
    "# columns are wmf.mediawiki_wikitext_current and\n",
    "# wav file bytes\n",
    "wav = spark.read.format(\"avro\").load('/user/fab/commons_sounds/wav_file/*').cache()\n",
    "wav.printSchema()\n"
   ]
  },
  {
   "cell_type": "code",
   "execution_count": 6,
   "metadata": {},
   "outputs": [
    {
     "data": {
      "text/html": [
       "<div>\n",
       "<style scoped>\n",
       "    .dataframe tbody tr th:only-of-type {\n",
       "        vertical-align: middle;\n",
       "    }\n",
       "\n",
       "    .dataframe tbody tr th {\n",
       "        vertical-align: top;\n",
       "    }\n",
       "\n",
       "    .dataframe thead th {\n",
       "        text-align: right;\n",
       "    }\n",
       "</style>\n",
       "<table border=\"1\" class=\"dataframe\">\n",
       "  <thead>\n",
       "    <tr style=\"text-align: right;\">\n",
       "      <th></th>\n",
       "      <th>summary</th>\n",
       "      <th>file_size</th>\n",
       "    </tr>\n",
       "  </thead>\n",
       "  <tbody>\n",
       "    <tr>\n",
       "      <th>0</th>\n",
       "      <td>count</td>\n",
       "      <td>594523</td>\n",
       "    </tr>\n",
       "    <tr>\n",
       "      <th>1</th>\n",
       "      <td>mean</td>\n",
       "      <td>195062.95163013038</td>\n",
       "    </tr>\n",
       "    <tr>\n",
       "      <th>2</th>\n",
       "      <td>stddev</td>\n",
       "      <td>521379.6885249695</td>\n",
       "    </tr>\n",
       "    <tr>\n",
       "      <th>3</th>\n",
       "      <td>min</td>\n",
       "      <td>1780</td>\n",
       "    </tr>\n",
       "    <tr>\n",
       "      <th>4</th>\n",
       "      <td>25%</td>\n",
       "      <td>134888</td>\n",
       "    </tr>\n",
       "    <tr>\n",
       "      <th>5</th>\n",
       "      <td>50%</td>\n",
       "      <td>156732</td>\n",
       "    </tr>\n",
       "    <tr>\n",
       "      <th>6</th>\n",
       "      <td>75%</td>\n",
       "      <td>178576</td>\n",
       "    </tr>\n",
       "    <tr>\n",
       "      <th>7</th>\n",
       "      <td>max</td>\n",
       "      <td>13324680</td>\n",
       "    </tr>\n",
       "  </tbody>\n",
       "</table>\n",
       "</div>"
      ],
      "text/plain": [
       "  summary           file_size\n",
       "0   count              594523\n",
       "1    mean  195062.95163013038\n",
       "2  stddev   521379.6885249695\n",
       "3     min                1780\n",
       "4     25%              134888\n",
       "5     50%              156732\n",
       "6     75%              178576\n",
       "7     max            13324680"
      ]
     },
     "execution_count": 6,
     "metadata": {},
     "output_type": "execute_result"
    }
   ],
   "source": [
    "wav.select(F.length(\"file_bytes_b64\").alias('file_size')).summary().toPandas()"
   ]
  },
  {
   "cell_type": "code",
   "execution_count": 10,
   "metadata": {},
   "outputs": [
    {
     "data": {
      "text/plain": [
       "array([[<AxesSubplot:title={'center':'length(file_bytes_b64)'}>]],\n",
       "      dtype=object)"
      ]
     },
     "execution_count": 10,
     "metadata": {},
     "output_type": "execute_result"
    },
    {
     "data": {
      "image/png": "[encoded data removed]",
      "text/plain": [
       "<Figure size 432x288 with 1 Axes>"
      ]
     },
     "metadata": {
      "needs_background": "light"
     },
     "output_type": "display_data"
    }
   ],
   "source": [
    "wav.select(F.length(\"file_bytes_b64\")).toPandas().hist()"
   ]
  },
  {
   "cell_type": "code",
   "execution_count": 11,
   "metadata": {},
   "outputs": [],
   "source": [
    "import base64\n",
    "from io import BytesIO\n",
    "from scipy.io import wavfile\n",
    "\n",
    "@F.udf(returnType=\"struct<sample_rate:int,length:float>\")\n",
    "def read_wav(file_bytes_b64):\n",
    "    file = BytesIO(base64.b64decode(file_bytes_b64))\n",
    "    try:\n",
    "        sample_rate, data =  wavfile.read(file)\n",
    "        # data=data.ravel()\n",
    "        return Row(sample_rate=sample_rate, length=(data.shape[0]/sample_rate))\n",
    "    except Exception as e:\n",
    "        # TODO\n",
    "        # haven't investigated, but this does happen\n",
    "        print(\"error loading wav\")\n",
    "        \n",
    "wav = (wav\n",
    "    .withColumn('wav', read_wav(\"file_bytes_b64\"))\n",
    "    .drop(\"file_bytes_b64\")\n",
    ").cache()\n"
   ]
  },
  {
   "cell_type": "code",
   "execution_count": 13,
   "metadata": {},
   "outputs": [
    {
     "name": "stdout",
     "output_type": "stream",
     "text": [
      "  summary        sample_rate\n",
      "0   count             592913\n",
      "1    mean  45171.87233034189\n",
      "2  stddev  8275.711620104417\n",
      "3     min                100\n",
      "4     25%              44100\n",
      "5     50%              48000\n",
      "6     75%              48000\n",
      "7     max             528000\n",
      "  summary              length\n",
      "0   count              592913\n",
      "1    mean  1.4595011438371486\n",
      "2  stddev  2.9829845891355955\n",
      "3     min          0.05825397\n",
      "4     25%           1.1287981\n",
      "5     50%                1.23\n",
      "6     75%                1.48\n",
      "7     max            637.9452\n"
     ]
    }
   ],
   "source": [
    "print(wav.select(\"wav.sample_rate\").summary().toPandas())\n",
    "print(wav.select(\"wav.length\").summary().toPandas())"
   ]
  },
  {
   "cell_type": "code",
   "execution_count": 17,
   "metadata": {},
   "outputs": [
    {
     "name": "stderr",
     "output_type": "stream",
     "text": [
      "/home/fab/.conda/envs/2021-04-08T02.22.00_fab/lib/python3.7/site-packages/ipykernel_launcher.py:7: WavFileWarning: Chunk (non-data) not understood, skipping it.\n",
      "  import sys\n",
      "/home/fab/.conda/envs/2021-04-08T02.22.00_fab/lib/python3.7/site-packages/ipykernel_launcher.py:7: WavFileWarning: Chunk (non-data) not understood, skipping it.\n",
      "  import sys\n",
      "/home/fab/.conda/envs/2021-04-08T02.22.00_fab/lib/python3.7/site-packages/ipykernel_launcher.py:7: WavFileWarning: Chunk (non-data) not understood, skipping it.\n",
      "  import sys\n",
      "/home/fab/.conda/envs/2021-04-08T02.22.00_fab/lib/python3.7/site-packages/ipykernel_launcher.py:7: WavFileWarning: Chunk (non-data) not understood, skipping it.\n",
      "  import sys\n",
      "/home/fab/.conda/envs/2021-04-08T02.22.00_fab/lib/python3.7/site-packages/ipykernel_launcher.py:7: WavFileWarning: Chunk (non-data) not understood, skipping it.\n",
      "  import sys\n",
      "/home/fab/.conda/envs/2021-04-08T02.22.00_fab/lib/python3.7/site-packages/ipykernel_launcher.py:7: WavFileWarning: Chunk (non-data) not understood, skipping it.\n",
      "  import sys\n"
     ]
    },
    {
     "data": {
      "image/png": "[encoded data removed]",
      "text/plain": [
       "<Figure size 432x288 with 1 Axes>"
      ]
     },
     "metadata": {
      "needs_background": "light"
     },
     "output_type": "display_data"
    }
   ],
   "source": [
    "import matplotlib.pyplot as plt\n",
    "import numpy as np\n",
    "\n",
    "for r in wav.take(100):\n",
    "    fb = BytesIO(base64.b64decode(r.file_bytes_b64))    \n",
    "    try:\n",
    "        sr, d = wavfile.read(fb)\n",
    "        plt.plot(d) \n",
    "    except:\n",
    "        pass"
   ]
  },
  {
   "cell_type": "code",
   "execution_count": null,
   "metadata": {},
   "outputs": [],
   "source": []
  }
 ],
 "metadata": {
  "interpreter": {
   "hash": "939e0aa91140d6c85163501fd44fde3947179308e909e35a3d8d3ebd25bc8905"
  },
  "kernelspec": {
   "display_name": "Python 3",
   "language": "python",
   "name": "python3"
  },
  "language_info": {
   "codemirror_mode": {
    "name": "ipython",
    "version": 3
   },
   "file_extension": ".py",
   "mimetype": "text/x-python",
   "name": "python",
   "nbconvert_exporter": "python",
   "pygments_lexer": "ipython3",
   "version": "3.7.6"
  }
 },
 "nbformat": 4,
 "nbformat_minor": 4
}
